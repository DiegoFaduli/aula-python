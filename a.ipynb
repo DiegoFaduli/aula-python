{
 "cells": [
  {
   "cell_type": "code",
   "execution_count": 8,
   "metadata": {},
   "outputs": [
    {
     "ename": "NameError",
     "evalue": "name 'temp_baixa' is not defined",
     "output_type": "error",
     "traceback": [
      "\u001b[1;31m---------------------------------------------------------------------------\u001b[0m",
      "\u001b[1;31mNameError\u001b[0m                                 Traceback (most recent call last)",
      "Cell \u001b[1;32mIn[8], line 16\u001b[0m\n\u001b[0;32m     12\u001b[0m             temp_baixa\u001b[38;5;241m.\u001b[39mappend(i)\n\u001b[0;32m     13\u001b[0m     \u001b[38;5;28;01mreturn\u001b[39;00m soma, media, temp_alta, temp_baixa\n\u001b[1;32m---> 16\u001b[0m \u001b[38;5;28mprint\u001b[39m(\u001b[43mtemperatura\u001b[49m\u001b[43m(\u001b[49m\u001b[43m)\u001b[49m)\n",
      "Cell \u001b[1;32mIn[8], line 12\u001b[0m, in \u001b[0;36mtemperatura\u001b[1;34m()\u001b[0m\n\u001b[0;32m     10\u001b[0m         temp_alta\u001b[38;5;241m.\u001b[39mappend(i)\n\u001b[0;32m     11\u001b[0m     \u001b[38;5;28;01melse\u001b[39;00m:\n\u001b[1;32m---> 12\u001b[0m         \u001b[43mtemp_baixa\u001b[49m\u001b[38;5;241m.\u001b[39mappend(i)\n\u001b[0;32m     13\u001b[0m \u001b[38;5;28;01mreturn\u001b[39;00m soma, media, temp_alta, temp_baixa\n",
      "\u001b[1;31mNameError\u001b[0m: name 'temp_baixa' is not defined"
     ]
    }
   ],
   "source": [
    "dias = [16,17,18,19,20,21,22,23,24,25]\n",
    "temperaturas = [32,33,34,34,30,21,24,28,32,30]\n",
    "\n",
    "\n",
    "def temperatura():\n",
    "    soma = sum(temperaturas)\n",
    "    media = soma / 10\n",
    "    for i in temperaturas:\n",
    "        if i < 29:\n",
    "            temp_alta.append(i)\n",
    "        else:\n",
    "            temp_baixa.append(i)\n",
    "    return soma, media, temp_alta, temp_baixa\n",
    "\n",
    "\n",
    "print(temperatura())\n"
   ]
  },
  {
   "cell_type": "code",
   "execution_count": 1,
   "metadata": {},
   "outputs": [
    {
     "name": "stdout",
     "output_type": "stream",
     "text": [
      "['joao@gmail.com', 'carlos@gmail.com', 'paulo@gmail.com', 'roberto@gmail.com']\n",
      "['ana@hotmail.com', 'claudia@hotmail.com']\n",
      "['maria@yahoo.com', 'pedro@yahoo.com']\n"
     ]
    }
   ],
   "source": [
    "emails = [\n",
    "    'joao@gmail.com',\n",
    "    'maria@yahoo.com',\n",
    "    'carlos@gmail.com',\n",
    "    'ana@hotmail.com',\n",
    "    'paulo@gmail.com',\n",
    "    'pedro@yahoo.com',\n",
    "    'claudia@hotmail.com',\n",
    "    'roberto@gmail.com',\n",
    "]\n",
    "\n",
    "gmail = []\n",
    "yahoo = []\n",
    "hotmail = []\n",
    "\n",
    "filtrar_email = list(filter(lambda x: x.endswith('gmail.com'), emails))\n",
    "filtrar_hotmail = list(filter(lambda x: x.endswith('hotmail.com'), emails))\n",
    "filtrar_yahoo = list(filter(lambda x: x.endswith('yahoo.com'), emails))\n",
    "\n",
    "print(filtrar_email)\n",
    "print(filtrar_hotmail)\n",
    "print(filtrar_yahoo)\n",
    "\n",
    "\n"
   ]
  },
  {
   "cell_type": "code",
   "execution_count": null,
   "metadata": {},
   "outputs": [],
   "source": [
    "cidades = ['sp','rj','rn','se','to','ce','df','ma','pi','sc']\n",
    "chuvas = [10,45,10,0,5,32,0,105,18,34]\n",
    "\n",
    "\n",
    "\n",
    "print()\n",
    "print()\n",
    "print()\n"
   ]
  },
  {
   "cell_type": "code",
   "execution_count": 15,
   "metadata": {},
   "outputs": [
    {
     "name": "stdout",
     "output_type": "stream",
     "text": [
      "['Itaim Bibi']\n"
     ]
    }
   ],
   "source": [
    "bairros = ['Centro','Moema','Pinheiros','Vila Mariana','Itaim Bibi',]\n",
    "cong_km = [10,8,15,12,20]\n",
    "v_med = [15,20,12,18,10]\n",
    "\n",
    "def bairros_maior_congestionamento(bairros, cong_km):\n",
    "    max_congestionamento = max(cong_km)\n",
    "    bairros_congestionados = [bairros[i] for i in range(len(bairros)) if cong_km[i] == max_congestionamento]\n",
    "    return bairros_congestionados\n",
    "\n",
    "print(bairros_maior_congestionamento(bairros, cong_km))\n"
   ]
  },
  {
   "cell_type": "markdown",
   "metadata": {},
   "source": [
    "bairros = ['Centro','Moema','Pinheiros','Vila Mariana','Itaim Bibi',]\n",
    "cong_km = [10,8,15,12,20]\n",
    "v_med = [15,20,12,18,10]\n",
    "\n",
    "def bairros_maior_congestionamento(bairros, cong_km):\n",
    "    max_congestionamento = max(cong_km)\n",
    "    bairros_congestionados = [bairros[i] for i in range(len(bairros)) if cong_km[i] == max_congestionamento]\n",
    "    return bairros_congestionados\n",
    "\n",
    "print(bairros_maior_congestionamento(bairros, cong_km))\n"
   ]
  },
  {
   "cell_type": "code",
   "execution_count": 17,
   "metadata": {},
   "outputs": [
    {
     "name": "stdout",
     "output_type": "stream",
     "text": [
      "13.333333333333334\n"
     ]
    }
   ],
   "source": [
    "#b) Crie outra funcao para calcular a velocidade media geral nos bairros onde o congestionamento é superior a 10km.\n",
    "\n",
    "def velocidade_media_superior_10km(bairros, cong_km, v_med):\n",
    "    total_velocidade = 0\n",
    "    count = 0\n",
    "    for i in range(len(bairros)):\n",
    "        if cong_km[i] > 10:\n",
    "            total_velocidade += v_med[i]\n",
    "            count += 1\n",
    "    if count == 0:\n",
    "        return 0\n",
    "    return total_velocidade / count\n",
    "\n",
    "print(velocidade_media_superior_10km(bairros, cong_km, v_med))\n"
   ]
  },
  {
   "cell_type": "code",
   "execution_count": 22,
   "metadata": {},
   "outputs": [
    {
     "name": "stdout",
     "output_type": "stream",
     "text": [
      "Moema\n"
     ]
    }
   ],
   "source": [
    "#c) Crie outra funcao para encontrar o bairro com a maior diferenca entre o congestionamento e a velocidade.\n",
    "def bairro_maior_diferenca(bairros, cong_km, v_med):\n",
    "    max_diferenca = 0\n",
    "    for i in range(len(bairros)):\n",
    "        diferenca = cong_km[i] - v_med[i]\n",
    "        if diferenca < 0:\n",
    "            diferenca = -diferenca\n",
    "        if diferenca > max_diferenca:\n",
    "            max_diferenca = diferenca\n",
    "            bairro_diferenca = bairros[i]\n",
    "    return bairro_diferenca\n",
    "\n",
    "\n",
    "print(bairro_maior_diferenca(bairros, cong_km, v_med))"
   ]
  },
  {
   "cell_type": "code",
   "execution_count": 32,
   "metadata": {},
   "outputs": [
    {
     "ename": "TypeError",
     "evalue": "temperatura() missing 2 required positional arguments: 'dias' and 'temperaturas'",
     "output_type": "error",
     "traceback": [
      "\u001b[1;31m---------------------------------------------------------------------------\u001b[0m",
      "\u001b[1;31mTypeError\u001b[0m                                 Traceback (most recent call last)",
      "Cell \u001b[1;32mIn[32], line 16\u001b[0m\n\u001b[0;32m     12\u001b[0m             temp_baixa\u001b[38;5;241m.\u001b[39mappend(i)\n\u001b[0;32m     13\u001b[0m     \u001b[38;5;28;01mreturn\u001b[39;00m soma,media,temp_alta,temp_baixa\n\u001b[1;32m---> 16\u001b[0m \u001b[38;5;28mprint\u001b[39m(\u001b[43mtemperatura\u001b[49m\u001b[43m(\u001b[49m\u001b[43m)\u001b[49m)\n",
      "\u001b[1;31mTypeError\u001b[0m: temperatura() missing 2 required positional arguments: 'dias' and 'temperaturas'"
     ]
    }
   ],
   "source": [
    "dias = [16,17,18,19,20,21,22,23,24,25]\n",
    "temperaturas = [32,33,34,34,30,21,24,28,32,30]\n",
    "\n",
    "\n",
    "def temperatura(dias, temperaturas):\n",
    "    soma = sum(temperaturas)\n",
    "    media = soma / 10\n",
    "    for i in temperaturas:\n",
    "        if i < 29:\n",
    "            temp_alta.append(i)\n",
    "        else:\n",
    "            temp_baixa.append(i)\n",
    "    return soma,media,temp_alta,temp_baixa\n",
    "\n",
    "\n",
    "print(temperatura(dias, temperaturas))\n"
   ]
  },
  {
   "cell_type": "code",
   "execution_count": 20,
   "metadata": {},
   "outputs": [
    {
     "name": "stdout",
     "output_type": "stream",
     "text": [
      "['Itaim Bibi']\n"
     ]
    }
   ],
   "source": [
    "bairros = ['Centro','Moema','Pinheiros','Vila Mariana','Itaim Bibi',]\n",
    "cong_km = [10,8,15,12,20]\n",
    "v_med = [15,20,12,18,10]\n",
    "\n",
    "def bairros_maior_congestionamento(bairros, cong_km):\n",
    "    max_congestionamento = max(cong_km)\n",
    "    bairros_congestionados = [bairros[i] for i in range(len(bairros)) if cong_km[i] == max_congestionamento]\n",
    "    return bairros_congestionados\n",
    "\n",
    "print(bairros_maior_congestionamento(bairros, cong_km))"
   ]
  },
  {
   "cell_type": "code",
   "execution_count": null,
   "metadata": {},
   "outputs": [],
   "source": [
    "cidades = ['sp','rj','rn','se','to','ce','df','ma','pi','sc']\n",
    "chuvas = [10,45,10,0,5,32,0,105,18,34]\n",
    "\n",
    "def cidades_com_chuva(cidades, chuvas):\n",
    "    return [cidade for cidade, chuva in zip(cidades, chuvas) if chuva > 0]\n",
    "\n",
    "def informacoes_chuvas(chuvas):\n",
    "    total_chuva = sum(chuvas)\n",
    "    media_chuva = total_chuva / len(chuvas)\n",
    "    max_chuva = max(chuvas)\n",
    "    min_chuva = min(chuvas)\n",
    "    return {\n",
    "        'total_chuva': total_chuva,\n",
    "        'media_chuva': media_chuva,\n",
    "        'max_chuva': max_chuva,\n",
    "        'min_chuva': min_chuva\n",
    "    }\n",
    "\n",
    "def main(cidades, chuvas):\n",
    "    cidades_chuvosas = cidades_com_chuva(cidades, chuvas)\n",
    "    info_chuvas = informacoes_chuvas(chuvas)\n",
    "    return {\n",
    "        'cidades_chuvosas': cidades_chuvosas,\n",
    "        'informacoes_chuvas': info_chuvas\n",
    "    }\n",
    "\n",
    "\n",
    "resultado = main(cidades, chuvas)\n",
    "print(resultado)\n"
   ]
  },
  {
   "cell_type": "code",
   "execution_count": null,
   "metadata": {},
   "outputs": [],
   "source": [
    "dias = [16,17,18,19,20,21,22,23,24,25]\n",
    "temperaturas = [32,33,34,34,30,21,24,28,32,30]\n",
    "\n",
    "\n",
    "def temperatura():\n",
    "    soma = sum(temperaturas)\n",
    "    media = soma / 10\n",
    "    for i in temperaturas:\n",
    "        if i < 29:\n",
    "            temp_alta.append(i)\n",
    "        else:\n",
    "            temp_baixa.append(i)\n",
    "    return soma, media, temp_alta, temp_baixa\n",
    "\n",
    "\n",
    "print(temperatura())\n"
   ]
  },
  {
   "cell_type": "code",
   "execution_count": null,
   "metadata": {},
   "outputs": [
    {
     "name": "stdout",
     "output_type": "stream",
     "text": [
      "{'cidades_chuvosas': ['sp', 'rj', 'rn', 'to', 'ce', 'ma', 'pi', 'sc'], 'informacoes_chuvas': {'total_chuva': 259, 'media_chuva': 25.9, 'max_chuva': 105, 'min_chuva': 0}}\n"
     ]
    }
   ],
   "source": [
    "3!!!\n",
    "\n",
    "cidades = ['sp','rj','rn','se','to','ce','df','ma','pi','sc']\n",
    "chuvas = [10,45,10,0,5,32,0,105,18,34]\n",
    "\n",
    "def informacoes(cidades, chuvas):\n",
    "    cidades_chuvosas = []\n",
    "    for i in range(len(cidades)):\n",
    "        if chuvas[i] > 0:\n",
    "            cidades_chuvosas.append(cidades[i])\n",
    "    \n",
    "    total_chuva = sum(chuvas)\n",
    "    media_chuva = total_chuva / len(chuvas)\n",
    "    max_chuva = max(chuvas)\n",
    "    min_chuva = min(chuvas)\n",
    "    \n",
    "    return {\n",
    "        'cidades_chuvosas': cidades_chuvosas,\n",
    "        'total_chuva': total_chuva,\n",
    "        'media_chuva': media_chuva,\n",
    "        'max_chuva': max_chuva,\n",
    "        'min_chuva': min_chuva\n",
    "    }\n",
    "\n",
    "resultado = informacoes(cidades, chuvas)\n",
    "print(resultado)\n"
   ]
  },
  {
   "cell_type": "code",
   "execution_count": null,
   "metadata": {},
   "outputs": [],
   "source": [
    "5\n",
    "def solicitar_temperaturas(cidade):\n",
    "    temperaturas = []\n",
    "    for i in range(5):\n",
    "        temp = float(input(f\"Digite a temperatura {i+1} para {cidade}: \"))\n",
    "        temperaturas.append(temp)\n",
    "    return temperaturas\n",
    "\n",
    "def calcular_media(temperaturas):\n",
    "    return sum(temperaturas) / len(temperaturas)\n",
    "\n",
    "def taxa():\n",
    "    cidades = [\"Cidade 1\", \"Cidade 2\", \"Cidade 3\"]\n",
    "    medias_cidades = []\n",
    "    \n",
    "    for cidade in cidades:\n",
    "        temperaturas = solicitar_temperaturas(cidade)\n",
    "        media = calcular_media(temperaturas)\n",
    "        medias_cidades.append(media)\n",
    "        print(f\"Média de {cidade}: {media:.2f}°C\")\n",
    "    \n",
    "    media_global = calcular_media(medias_cidades)\n",
    "    print(f\"\\nMédia global das temperaturas: {media_global:.2f}°C\")\n",
    "    \n",
    "    for i, media in enumerate(medias_cidades):\n",
    "        taxa = (media - media_global) / media\n",
    "        print(f\"Taxa de variação para {cidades[i]}: {taxa:.2%}\")\n",
    "\n",
    "taxa()\n"
   ]
  },
  {
   "cell_type": "code",
   "execution_count": null,
   "metadata": {},
   "outputs": [],
   "source": [
    "dias = [16,17,18,19,20,21,22,23,24,25]\n",
    "temperaturas = [32,33,34,34,30,21,24,28,32,30]\n",
    "\n",
    "\n",
    "def temp():\n",
    "    soma = sum(temperaturas)\n",
    "    media = soma / 10\n",
    "    for i in temperaturas:\n",
    "        if i < 29:\n",
    "            temp_alta.append(i)\n",
    "        else:\n",
    "            temp_baixa.append(i)\n",
    "    return soma, media, temp_alta, temp_baixa\n",
    "\n",
    "\n",
    "print(temp())\n"
   ]
  },
  {
   "cell_type": "code",
   "execution_count": null,
   "metadata": {},
   "outputs": [],
   "source": []
  }
 ],
 "metadata": {
  "kernelspec": {
   "display_name": "Python 3",
   "language": "python",
   "name": "python3"
  },
  "language_info": {
   "codemirror_mode": {
    "name": "ipython",
    "version": 3
   },
   "file_extension": ".py",
   "mimetype": "text/x-python",
   "name": "python",
   "nbconvert_exporter": "python",
   "pygments_lexer": "ipython3",
   "version": "3.12.3"
  }
 },
 "nbformat": 4,
 "nbformat_minor": 2
}
