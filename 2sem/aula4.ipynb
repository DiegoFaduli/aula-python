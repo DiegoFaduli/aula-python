{
 "cells": [
  {
   "cell_type": "code",
   "execution_count": 6,
   "metadata": {},
   "outputs": [
    {
     "name": "stdout",
     "output_type": "stream",
     "text": [
      "pythonémosntro\n",
      "hojeésexta-feira\n"
     ]
    }
   ],
   "source": [
    "concatena = lambda s1, s2:s1 + 'é' + s2\n",
    "\n",
    "print(concatena('python','mosntro'))\n",
    "print(concatena('hoje','sexta-feira'))"
   ]
  },
  {
   "cell_type": "code",
   "execution_count": 9,
   "metadata": {},
   "outputs": [
    {
     "name": "stdout",
     "output_type": "stream",
     "text": [
      "HOJE E SEXTA-FEIRA!\n",
      "sabado tera jogo do corinthians\n"
     ]
    }
   ],
   "source": [
    "maiusculos = lambda s: s.upper()\n",
    "minusculos = lambda s: s.lower()\n",
    "\n",
    "print(maiusculos(\"hoje e sexta-feira!\"))\n",
    "print(minusculos(\"sabado tera jogo do corinthians\"))"
   ]
  },
  {
   "cell_type": "code",
   "execution_count": 10,
   "metadata": {},
   "outputs": [
    {
     "name": "stdout",
     "output_type": "stream",
     "text": [
      "c\n"
     ]
    }
   ],
   "source": [
    "nota = float(input('digite um numero'))\n",
    "\n",
    "if nota >= 7:\n",
    "    print('a')\n",
    "elif 5 <= nota < 7:\n",
    "    print('b')\n",
    "else:\n",
    "    print('c')"
   ]
  },
  {
   "cell_type": "code",
   "execution_count": null,
   "metadata": {},
   "outputs": [],
   "source": [
    "def conceito(nota):\n",
    "    nota = float(input('digite um numero'))\n",
    "\n",
    "    if nota >=7:\n",
    "        return 'a'\n",
    "    else:\n",
    "        return 'b'"
   ]
  },
  {
   "cell_type": "code",
   "execution_count": 11,
   "metadata": {},
   "outputs": [
    {
     "name": "stdout",
     "output_type": "stream",
     "text": [
      "a\n",
      "b\n"
     ]
    }
   ],
   "source": [
    "avaliacao = lambda nota: 'a' if nota>= 7 else 'b'\n",
    "\n",
    "print(avaliacao(8))\n",
    "print(avaliacao(5))"
   ]
  },
  {
   "cell_type": "code",
   "execution_count": null,
   "metadata": {},
   "outputs": [],
   "source": [
    "avaliacao = lambda nota: 'a' if nota >= else('b' if nota >= 5 else 'c')"
   ]
  },
  {
   "cell_type": "code",
   "execution_count": 10,
   "metadata": {},
   "outputs": [
    {
     "name": "stdout",
     "output_type": "stream",
     "text": [
      "crianca\n",
      "adolescente\n",
      "adulto\n",
      "idoso\n"
     ]
    }
   ],
   "source": [
    "# crie uma estrutura para mostrar se a pessoa e uma crianca, adolescente, adulto ou idoso em funcao da idade.\n",
    "\n",
    "#idade < 12 - crianca\n",
    "#idade < 18 - adolescente\n",
    "#idade < 60 - adulto\n",
    "#idade > 60 - idoso\n",
    "\n",
    "classifica_idade = lambda idade:\"crianca\" if idade < 12 else ('adolescente' if idade < 18 else ('adulto' if idade < 60 else 'idoso'))\n",
    "\n",
    "print(classifica_idade(10))\n",
    "print(classifica_idade(17))\n",
    "print(classifica_idade(39))\n",
    "print(classifica_idade(65))\n",
    "\n",
    "\n"
   ]
  },
  {
   "cell_type": "code",
   "execution_count": 6,
   "metadata": {},
   "outputs": [
    {
     "name": "stdout",
     "output_type": "stream",
     "text": [
      "[1, 4, 9, 16, 25]\n"
     ]
    }
   ],
   "source": [
    "#estrutura com listas\n",
    "\n",
    "numeros = [1,2,3,4,5]\n",
    "quadrado = list(map(lambda x: x**2, numeros))\n",
    "print(quadrado)"
   ]
  },
  {
   "cell_type": "code",
   "execution_count": 12,
   "metadata": {},
   "outputs": [
    {
     "name": "stdout",
     "output_type": "stream",
     "text": [
      "['PYTHON', 'É', 'MUITO', 'UTILIZADO', 'PARA', 'DATA SCIENCE']\n"
     ]
    }
   ],
   "source": [
    "palavras = ['python', 'é', 'muito', 'utilizado', 'para', 'data science']\n",
    "\n",
    "maiusculas = list(map(lambda palavra: palavra.upper(), palavras))\n",
    "\n",
    "print(maiusculas)"
   ]
  },
  {
   "cell_type": "code",
   "execution_count": 13,
   "metadata": {},
   "outputs": [
    {
     "name": "stdout",
     "output_type": "stream",
     "text": [
      "[2, 4]\n"
     ]
    }
   ],
   "source": [
    "numeros = [1,2,3,4,5]\n",
    "\n",
    "pares = list(filter(lambda x: x % 2 == 0, numeros))\n",
    "\n",
    "print(pares)"
   ]
  },
  {
   "cell_type": "code",
   "execution_count": 14,
   "metadata": {},
   "outputs": [
    {
     "name": "stdout",
     "output_type": "stream",
     "text": [
      "[4, 4, 5, 8]\n"
     ]
    }
   ],
   "source": [
    "palavras = ['casa', 'moto', 'carro', 'caminhao']\n",
    "\n",
    "comprimento_palavras = list(map(lambda w: len(w), palavras))\n",
    "\n",
    "print(comprimento_palavras)"
   ]
  },
  {
   "cell_type": "code",
   "execution_count": 18,
   "metadata": {},
   "outputs": [
    {
     "name": "stdout",
     "output_type": "stream",
     "text": [
      "['casa', 'carro', 'caminhao']\n"
     ]
    }
   ],
   "source": [
    "palavras = ['casa', 'moto', 'carro', 'caminhao']\n",
    "\n",
    "selecao_caractere = list(filter(lambda z: z.startswith('c'),palavras))\n",
    "print(selecao_caractere)"
   ]
  },
  {
   "cell_type": "code",
   "execution_count": 16,
   "metadata": {},
   "outputs": [
    {
     "name": "stdout",
     "output_type": "stream",
     "text": [
      "['Ola pedro!', 'Ola camila!', 'Ola diego!', 'Ola mark!']\n"
     ]
    }
   ],
   "source": [
    "nomes = ['pedro', 'camila', 'diego', 'mark']\n",
    "\n",
    "texto_formatado = list(map(lambda x: f\"Ola {x}!\", nomes))\n",
    "print(texto_formatado)"
   ]
  },
  {
   "cell_type": "code",
   "execution_count": 19,
   "metadata": {},
   "outputs": [
    {
     "name": "stdout",
     "output_type": "stream",
     "text": [
      "[('maca', 2), ('banana', 5), ('laranja', 10), ('morango', 3)]\n",
      "[('banana', 5), ('laranja', 10), ('maca', 2), ('morango', 3)]\n"
     ]
    }
   ],
   "source": [
    "#exemplos com uma  lista de tuplas \n",
    "\n",
    "lista_tuplas = [('maca', 2), ('banana', 5), ('laranja', 10), ('morango', 3)]\n",
    "print(lista_tuplas)\n",
    "\n",
    "ordena = sorted(lista_tuplas, key = lambda x: x[0])\n",
    "print(ordena)"
   ]
  },
  {
   "cell_type": "code",
   "execution_count": null,
   "metadata": {},
   "outputs": [],
   "source": [
    "# 1 - como filtrar informacoes das tuplas maiores do que 3 ?\n",
    "#2 - como filtrar inforamcaoes de frutas que comecas com a letra m?"
   ]
  },
  {
   "cell_type": "code",
   "execution_count": null,
   "metadata": {},
   "outputs": [],
   "source": [
    "lista_tuplas = [('maca', 2), ('banana', 5), ('laranja', 10), ('morango', 3)]\n",
    "print(lista_tuplas)\n",
    "\n",
    "selecao_caractere = list(filter(lambda z: z.startswith('m'),lista))\n",
    "print(selecao_caractere)"
   ]
  },
  {
   "cell_type": "code",
   "execution_count": null,
   "metadata": {},
   "outputs": [],
   "source": []
  },
  {
   "cell_type": "code",
   "execution_count": null,
   "metadata": {},
   "outputs": [],
   "source": []
  }
 ],
 "metadata": {
  "kernelspec": {
   "display_name": "Python 3",
   "language": "python",
   "name": "python3"
  },
  "language_info": {
   "codemirror_mode": {
    "name": "ipython",
    "version": 3
   },
   "file_extension": ".py",
   "mimetype": "text/x-python",
   "name": "python",
   "nbconvert_exporter": "python",
   "pygments_lexer": "ipython3",
   "version": "3.12.3"
  }
 },
 "nbformat": 4,
 "nbformat_minor": 2
}
