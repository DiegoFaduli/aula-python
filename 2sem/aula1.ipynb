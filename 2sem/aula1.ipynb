{
 "cells": [
  {
   "cell_type": "code",
   "execution_count": null,
   "metadata": {},
   "outputs": [],
   "source": [
    "lista = [100, 200, 300]"
   ]
  },
  {
   "cell_type": "code",
   "execution_count": 1,
   "metadata": {},
   "outputs": [
    {
     "name": "stdout",
     "output_type": "stream",
     "text": [
      "(100, 200, 300)\n"
     ]
    }
   ],
   "source": [
    "tupla = (100, 200, 300)\n",
    "print(tupla)"
   ]
  },
  {
   "cell_type": "code",
   "execution_count": 3,
   "metadata": {},
   "outputs": [
    {
     "name": "stdout",
     "output_type": "stream",
     "text": [
      "(100, 200, 300)\n",
      "100\n",
      "200\n",
      "300\n",
      "100\n",
      "200\n",
      "300\n"
     ]
    }
   ],
   "source": [
    "tupla = (100, 200, 300)\n",
    "print(tupla)\n",
    "\n",
    "print(tupla[0])\n",
    "print(tupla[1])\n",
    "print(tupla[2])\n",
    "\n",
    "for k in tupla:\n",
    "    print(k)"
   ]
  },
  {
   "cell_type": "code",
   "execution_count": 14,
   "metadata": {},
   "outputs": [
    {
     "name": "stdout",
     "output_type": "stream",
     "text": [
      "((4, 5, 6), (7, 8))\n",
      "6\n",
      "(7, 8)\n",
      "(4, 5, 6)\n",
      "(7, 8)\n"
     ]
    }
   ],
   "source": [
    "tupla_tupla = (4,5,6),(7,8)\n",
    "print(tupla_tupla)\n",
    "print(tupla_tupla[0][2])\n",
    "print(tupla_tupla[1])\n",
    "\n",
    "\n",
    "for m in tupla_tupla:\n",
    "    print(m)"
   ]
  },
  {
   "cell_type": "code",
   "execution_count": 13,
   "metadata": {},
   "outputs": [
    {
     "name": "stdout",
     "output_type": "stream",
     "text": [
      "(4, 5, 6)\n",
      "(7, 8)\n"
     ]
    }
   ],
   "source": [
    "for m in tupla_tupla:\n",
    "    print(m)"
   ]
  },
  {
   "cell_type": "code",
   "execution_count": 16,
   "metadata": {},
   "outputs": [
    {
     "name": "stdout",
     "output_type": "stream",
     "text": [
      "('s', 't', 'r', 'i', 'n', 'g')\n"
     ]
    }
   ],
   "source": [
    "tupla = tuple('string')\n",
    "print(tupla)"
   ]
  },
  {
   "cell_type": "code",
   "execution_count": 2,
   "metadata": {},
   "outputs": [
    {
     "name": "stdout",
     "output_type": "stream",
     "text": [
      "('foo', [1, 2, 3], True)\n"
     ]
    }
   ],
   "source": [
    "tupla = tuple(['foo',[1,2,3],True])\n",
    "print(tupla)"
   ]
  },
  {
   "cell_type": "code",
   "execution_count": 7,
   "metadata": {},
   "outputs": [
    {
     "name": "stdout",
     "output_type": "stream",
     "text": [
      "('foo', [1, 2, 3, 4], True)\n"
     ]
    }
   ],
   "source": [
    "tupla[1].append(4)\n",
    "print(tupla)"
   ]
  },
  {
   "cell_type": "code",
   "execution_count": 10,
   "metadata": {},
   "outputs": [
    {
     "name": "stdout",
     "output_type": "stream",
     "text": [
      "('foo', [1, 2, 3], True)\n",
      "['foo', [1, 2, 3], True]\n",
      "['fiap', 'foo', [1, 2, 3], True]\n"
     ]
    }
   ],
   "source": [
    "tupla = tuple(['foo',[1,2,3],True])\n",
    "print(tupla)\n",
    "\n",
    "lista = list(tupla)\n",
    "print(lista)\n",
    "\n",
    "lista.insert(0, 'fiap')\n",
    "print(lista)"
   ]
  },
  {
   "cell_type": "code",
   "execution_count": 12,
   "metadata": {},
   "outputs": [
    {
     "name": "stdout",
     "output_type": "stream",
     "text": [
      "('foo', [1, 2, 3], True)\n",
      "['foo', [1, 2, 3], True]\n",
      "('foo fighters', 'foo', [1, 2, 3], True)\n"
     ]
    }
   ],
   "source": [
    "tupla = tuple(['foo',[1,2,3],True])\n",
    "print(tupla)\n",
    "\n",
    "lista = list(tupla)\n",
    "print(lista)\n",
    "\n",
    "posicao_insercao = lista.index('foo') \n",
    "lista.insert(posicao_insercao, 'foo fighters')\n",
    "\n",
    "tupla_nova = tuple(lista)\n",
    "print(tupla_nova) "
   ]
  },
  {
   "cell_type": "code",
   "execution_count": null,
   "metadata": {},
   "outputs": [],
   "source": [
    "(4, None, 'foo') + (6, 0) + ('fiap, 1')"
   ]
  },
  {
   "cell_type": "code",
   "execution_count": null,
   "metadata": {},
   "outputs": [],
   "source": [
    "(4, None, 'foo') + 4"
   ]
  },
  {
   "cell_type": "code",
   "execution_count": 14,
   "metadata": {},
   "outputs": [
    {
     "name": "stdout",
     "output_type": "stream",
     "text": [
      "100\n",
      "1000\n",
      "10000\n"
     ]
    }
   ],
   "source": [
    "tupla = (100,1000,10000)\n",
    "\n",
    "a,b,c = tupla\n",
    "\n",
    "print(a)\n",
    "print(b)\n",
    "print(c)"
   ]
  },
  {
   "cell_type": "code",
   "execution_count": null,
   "metadata": {},
   "outputs": [],
   "source": [
    "def nome_funcao(parametros):\n",
    "    a = (20 + 50) / 2\n",
    "    b = (20 + 50)\n",
    "    return a, b"
   ]
  },
  {
   "cell_type": "code",
   "execution_count": null,
   "metadata": {},
   "outputs": [],
   "source": [
    "#1- Crie uma tupla chamada frutas com os seguintes elementos: 'maca', 'banana', 'uva'\n",
    "#2- Acesse o segundo elemento da tupla frutas\n",
    "#3-Substitua o terceiro elemento da tupla frutas por 'manga' e armazene a tupla modificada\n",
    "#em uma nova variavel chamada fruta_modificadas\n",
    "#4-Concatene a tupla frutas_modificadas com a tupla('abacaxi','limao') e armazene o resultado\n",
    "#em uma nova tupla chamada frutas_concatenadas.\n",
    "#5- Verifique se o elemento 'uva' esta presente na tupla frutas_concatenadas."
   ]
  },
  {
   "cell_type": "code",
   "execution_count": null,
   "metadata": {},
   "outputs": [],
   "source": [
    "tupla = ('maca','banana','laranja','uva')\n",
    "tupla = [1]\n",
    "lista = list(tupla)\n",
    "\n",
    "substitua = lista.index('uva') + 1\n",
    "\n",
    "lista.insert(substitua, 'manga')\n",
    "tp = tuple(lista)\n",
    "print(tp)\n",
    "tupla_final = tupla + ('abacaxi', 'limao')\n",
    "print(tupla_final)"
   ]
  },
  {
   "cell_type": "code",
   "execution_count": 12,
   "metadata": {},
   "outputs": [
    {
     "name": "stdout",
     "output_type": "stream",
     "text": [
      "Laura 87.66666666666667\n",
      "Paulo 67.66666666666667\n",
      "Ana 79.33333333333333\n",
      "Jose 80.66666666666667\n"
     ]
    }
   ],
   "source": [
    "#Crie um algoritmo para calcular a media dos alunos abaixo.Utilize estrutura de repeticao e tuplas.\n",
    "#[(Laura,85,90,88)\n",
    "#(Paulo, 60,75,68)\n",
    "#(Ana, 68,80,90)\n",
    "#(Jose, 80,90,72)]\n",
    "\n",
    "lista = [('Laura',85,90,88),\n",
    "('Paulo', 60,75,68),\n",
    "('Ana', 68,80,90),\n",
    "('Jose', 80,90,72)]\n",
    "\n",
    "for k in lista:\n",
    "    nome, nota1, nota2, nota3 = k\n",
    "    media = (nota1 + nota2 + nota3)/3\n",
    "    print(nome, media)\n",
    "\n",
    "\n"
   ]
  },
  {
   "cell_type": "code",
   "execution_count": 30,
   "metadata": {},
   "outputs": [
    {
     "name": "stdout",
     "output_type": "stream",
     "text": [
      "A despesa de viagens ira dar no total: 143000 reais\n",
      "A despesa de restaurantes ira dar no total: 795 reais\n",
      "A despesa de transportes ira dar no total: 269 reais\n"
     ]
    }
   ],
   "source": [
    "#Crie um programas para analise de despesas. Utilize estrutura de repeticao e tuplas.\n",
    "#viagens,5000,15000,25000,98000\n",
    "#restaurantes, 230,100,50,415\n",
    "#transporte, 50,15,89,115\n",
    "\n",
    "tupla = [('viagens',5000,15000,25000,98000),\n",
    "('restaurantes', 230,100,50,415),\n",
    "('transportes', 50,15,89,115)]\n",
    "\n",
    "for k in tupla:\n",
    "    nome, nota1, nota2, nota3, nota4 = k\n",
    "    despesas = (nota1 + nota2 + nota3 + nota4)\n",
    "    print(f'A despesa de {nome} ira dar no total: {despesas} reais')"
   ]
  },
  {
   "cell_type": "code",
   "execution_count": 31,
   "metadata": {},
   "outputs": [
    {
     "name": "stdout",
     "output_type": "stream",
     "text": [
      "O senhor dos aneisJ.R.R. Tolkien\n",
      "O hobbitJ.R.R. Tolkien\n",
      "1984George Orwell\n"
     ]
    }
   ],
   "source": [
    "#Crie um programa para catalogacao de livros. Utilize estrutura de repeticao e tuplas.\n",
    "\n",
    "tupla_livros = [('O senhor dos aneis','J.R.R. Tolkien'), \n",
    "('O hobbit', 'J.R.R. Tolkien'),\n",
    "('1984', 'George Orwell')]\n",
    "\n",
    "for k in tupla_livros:\n",
    "    livro1, livro2 = k\n",
    "    catalogacao = (livro1 + livro2)\n",
    "    print(f'{livro1}{livro2}')"
   ]
  },
  {
   "cell_type": "code",
   "execution_count": null,
   "metadata": {},
   "outputs": [],
   "source": []
  }
 ],
 "metadata": {
  "kernelspec": {
   "display_name": "Python 3",
   "language": "python",
   "name": "python3"
  },
  "language_info": {
   "codemirror_mode": {
    "name": "ipython",
    "version": 3
   },
   "file_extension": ".py",
   "mimetype": "text/x-python",
   "name": "python",
   "nbconvert_exporter": "python",
   "pygments_lexer": "ipython3",
   "version": "3.11.7"
  }
 },
 "nbformat": 4,
 "nbformat_minor": 2
}
