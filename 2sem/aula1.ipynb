{
 "cells": [
  {
   "cell_type": "code",
   "execution_count": null,
   "metadata": {},
   "outputs": [],
   "source": [
    "lista = [100, 200, 300]"
   ]
  },
  {
   "cell_type": "code",
   "execution_count": 1,
   "metadata": {},
   "outputs": [
    {
     "name": "stdout",
     "output_type": "stream",
     "text": [
      "(100, 200, 300)\n"
     ]
    }
   ],
   "source": [
    "tupla = (100, 200, 300)\n",
    "print(tupla)"
   ]
  },
  {
   "cell_type": "code",
   "execution_count": 3,
   "metadata": {},
   "outputs": [
    {
     "name": "stdout",
     "output_type": "stream",
     "text": [
      "(100, 200, 300)\n",
      "100\n",
      "200\n",
      "300\n",
      "100\n",
      "200\n",
      "300\n"
     ]
    }
   ],
   "source": [
    "tupla = (100, 200, 300)\n",
    "print(tupla)\n",
    "\n",
    "print(tupla[0])\n",
    "print(tupla[1])\n",
    "print(tupla[2])\n",
    "\n",
    "for k in tupla:\n",
    "    print(k)"
   ]
  },
  {
   "cell_type": "code",
   "execution_count": 14,
   "metadata": {},
   "outputs": [
    {
     "name": "stdout",
     "output_type": "stream",
     "text": [
      "((4, 5, 6), (7, 8))\n",
      "6\n",
      "(7, 8)\n",
      "(4, 5, 6)\n",
      "(7, 8)\n"
     ]
    }
   ],
   "source": [
    "tupla_tupla = (4,5,6),(7,8)\n",
    "print(tupla_tupla)\n",
    "print(tupla_tupla[0][2])\n",
    "print(tupla_tupla[1])\n",
    "\n",
    "\n",
    "for m in tupla_tupla:\n",
    "    print(m)"
   ]
  },
  {
   "cell_type": "code",
   "execution_count": 13,
   "metadata": {},
   "outputs": [
    {
     "name": "stdout",
     "output_type": "stream",
     "text": [
      "(4, 5, 6)\n",
      "(7, 8)\n"
     ]
    }
   ],
   "source": [
    "for m in tupla_tupla:\n",
    "    print(m)"
   ]
  },
  {
   "cell_type": "code",
   "execution_count": 16,
   "metadata": {},
   "outputs": [
    {
     "name": "stdout",
     "output_type": "stream",
     "text": [
      "('s', 't', 'r', 'i', 'n', 'g')\n"
     ]
    }
   ],
   "source": [
    "tupla = tuple('string')\n",
    "print(tupla)"
   ]
  },
  {
   "cell_type": "code",
   "execution_count": null,
   "metadata": {},
   "outputs": [],
   "source": []
  }
 ],
 "metadata": {
  "kernelspec": {
   "display_name": "Python 3",
   "language": "python",
   "name": "python3"
  },
  "language_info": {
   "codemirror_mode": {
    "name": "ipython",
    "version": 3
   },
   "file_extension": ".py",
   "mimetype": "text/x-python",
   "name": "python",
   "nbconvert_exporter": "python",
   "pygments_lexer": "ipython3",
   "version": "3.11.7"
  }
 },
 "nbformat": 4,
 "nbformat_minor": 2
}
