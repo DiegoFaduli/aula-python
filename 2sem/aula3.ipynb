{
 "cells": [
  {
   "cell_type": "code",
   "execution_count": 2,
   "metadata": {},
   "outputs": [
    {
     "name": "stdout",
     "output_type": "stream",
     "text": [
      "6\n",
      "3.0\n"
     ]
    }
   ],
   "source": [
    "#funcao chama funcao \n",
    "\n",
    "def soma(a,b):\n",
    "    'funcao soma'\n",
    "    soma = a + b\n",
    "    return soma\n",
    "\n",
    "def media(a,b):\n",
    "    'funcao media'\n",
    "    media = soma(a,b) / 2\n",
    "    return media\n",
    "\n",
    "print(soma(2,4))\n",
    "print(media(2,4))"
   ]
  },
  {
   "cell_type": "code",
   "execution_count": 6,
   "metadata": {},
   "outputs": [
    {
     "ename": "NameError",
     "evalue": "name 'eleva_quadrado' is not defined",
     "output_type": "error",
     "traceback": [
      "\u001b[1;31m---------------------------------------------------------------------------\u001b[0m",
      "\u001b[1;31mNameError\u001b[0m                                 Traceback (most recent call last)",
      "Cell \u001b[1;32mIn[6], line 21\u001b[0m\n\u001b[0;32m     17\u001b[0m     soma \u001b[38;5;241m=\u001b[39m x \u001b[38;5;241m+\u001b[39m y \u001b[38;5;241m+\u001b[39m z \u001b[38;5;241m+\u001b[39m w\n\u001b[0;32m     19\u001b[0m     \u001b[38;5;28;01mreturn\u001b[39;00m soma\n\u001b[1;32m---> 21\u001b[0m \u001b[43msoma_quadrado\u001b[49m\u001b[43m(\u001b[49m\u001b[38;5;241;43m5\u001b[39;49m\u001b[43m,\u001b[49m\u001b[38;5;241;43m10\u001b[39;49m\u001b[43m,\u001b[49m\u001b[38;5;241;43m15\u001b[39;49m\u001b[43m,\u001b[49m\u001b[38;5;241;43m20\u001b[39;49m\u001b[43m,\u001b[49m\u001b[38;5;241;43m25\u001b[39;49m\u001b[43m)\u001b[49m\n",
      "Cell \u001b[1;32mIn[6], line 12\u001b[0m, in \u001b[0;36msoma_quadrado\u001b[1;34m(a, b, c, d, e)\u001b[0m\n\u001b[0;32m      9\u001b[0m \u001b[38;5;28;01mdef\u001b[39;00m \u001b[38;5;21msoma_quadrado\u001b[39m(a,b,c,d,e):\n\u001b[0;32m     10\u001b[0m     \u001b[38;5;124m'\u001b[39m\u001b[38;5;124mfuncao que soma os numeros\u001b[39m\u001b[38;5;124m'\u001b[39m\n\u001b[1;32m---> 12\u001b[0m     x \u001b[38;5;241m=\u001b[39m \u001b[43meleva_quadrado\u001b[49m(a)\n\u001b[0;32m     13\u001b[0m     y \u001b[38;5;241m=\u001b[39m eleva_quadrado(b)\n\u001b[0;32m     14\u001b[0m     z \u001b[38;5;241m=\u001b[39m eleva_quadrado(c)\n",
      "\u001b[1;31mNameError\u001b[0m: name 'eleva_quadrado' is not defined"
     ]
    }
   ],
   "source": [
    "#criar uma funcao que retorna a soma dos quadrados\n",
    "\n",
    "def soma_quadrado(x):\n",
    "    'funcao eleva ao quadrado'\n",
    "    y = x**2\n",
    "\n",
    "    return y\n",
    "\n",
    "def soma_quadrado(a,b,c,d,e):\n",
    "    'funcao que soma os numeros'\n",
    "\n",
    "    x = eleva_quadrado(a)\n",
    "    y = eleva_quadrado(b)\n",
    "    z = eleva_quadrado(c)\n",
    "    w = eleva_quadrado(d)\n",
    "\n",
    "    soma = x + y + z + w\n",
    "\n",
    "    return soma\n",
    "    \n",
    "soma_quadrado(5,10,15,20,25)"
   ]
  },
  {
   "cell_type": "code",
   "execution_count": 7,
   "metadata": {},
   "outputs": [
    {
     "name": "stdout",
     "output_type": "stream",
     "text": [
      "a area do retangulo e:  200.0\n"
     ]
    }
   ],
   "source": [
    "#funcao para calcular a area do retangulo\n",
    "\n",
    "\n",
    "def area(comprimento,largura):\n",
    "    'funcao que calcula a area de um retangulo'\n",
    "\n",
    "    area_ret = comprimento * largura\n",
    "\n",
    "    return area_ret\n",
    "\n",
    "def mostra_area():\n",
    "    'funcao para mostra o resultado'\n",
    "    print('a area do retangulo e: ',ar)\n",
    "\n",
    "l = float(input('digite o comprimento'))\n",
    "c = float(input('digite a largura'))\n",
    "\n",
    "ar = area(l, c)\n",
    "mostra_area()\n",
    "\n",
    "\n"
   ]
  },
  {
   "cell_type": "code",
   "execution_count": 12,
   "metadata": {},
   "outputs": [
    {
     "data": {
      "text/plain": [
       "'area e media'"
      ]
     },
     "execution_count": 12,
     "metadata": {},
     "output_type": "execute_result"
    }
   ],
   "source": [
    "#funcao para calcular a area de um circulo e retornar as seguintes informacoes\n",
    "\n",
    "#area > 100 - area_grande\n",
    "#area > 50 - area_media\n",
    "#area < 50 - area_pequena\n",
    "\n",
    "def calcula_area(raio):\n",
    "    'funcao que calcula a area de um retangulo'\n",
    "\n",
    "    area_circ = 3.1415 * (raio**2)\n",
    "\n",
    "    return area_circ\n",
    "\n",
    "def mostra_area(area):\n",
    "    'funcao para mostra o resultado'\n",
    "    if area > 100:\n",
    "        return 'a area e grande'\n",
    "    elif area > 50:\n",
    "        return 'area e media'\n",
    "    else:\n",
    "        return'area_pequena'\n",
    "\n",
    "    print('a area do retangulo e: ',ar)\n",
    "\n",
    "\n",
    "\n",
    "r = float(input('digite o raio'))\n",
    "\n",
    "mostra_area(calcula_area(5))\n"
   ]
  },
  {
   "cell_type": "code",
   "execution_count": 1,
   "metadata": {},
   "outputs": [
    {
     "ename": "NameError",
     "evalue": "name 'multiplica' is not defined",
     "output_type": "error",
     "traceback": [
      "\u001b[1;31m---------------------------------------------------------------------------\u001b[0m",
      "\u001b[1;31mNameError\u001b[0m                                 Traceback (most recent call last)",
      "Cell \u001b[1;32mIn[1], line 15\u001b[0m\n\u001b[0;32m     12\u001b[0m listaA \u001b[38;5;241m=\u001b[39m [\u001b[38;5;241m1\u001b[39m,\u001b[38;5;241m2\u001b[39m,\u001b[38;5;241m3\u001b[39m,\u001b[38;5;241m4\u001b[39m]\n\u001b[0;32m     13\u001b[0m listaB \u001b[38;5;241m=\u001b[39m [\u001b[38;5;241m5\u001b[39m,\u001b[38;5;241m6\u001b[39m,\u001b[38;5;241m7\u001b[39m,\u001b[38;5;241m8\u001b[39m]\n\u001b[1;32m---> 15\u001b[0m resultado \u001b[38;5;241m=\u001b[39m \u001b[43mmultiplicador_lista\u001b[49m\u001b[43m(\u001b[49m\u001b[43mlistaA\u001b[49m\u001b[43m,\u001b[49m\u001b[43m \u001b[49m\u001b[43mlistaB\u001b[49m\u001b[43m)\u001b[49m\n\u001b[0;32m     17\u001b[0m \u001b[38;5;28mprint\u001b[39m(resultado)\n",
      "Cell \u001b[1;32mIn[1], line 9\u001b[0m, in \u001b[0;36mmultiplicador_lista\u001b[1;34m(lista1, lista2)\u001b[0m\n\u001b[0;32m      6\u001b[0m produtos \u001b[38;5;241m=\u001b[39m []\n\u001b[0;32m      8\u001b[0m \u001b[38;5;28;01mfor\u001b[39;00m i \u001b[38;5;129;01min\u001b[39;00m \u001b[38;5;28mrange\u001b[39m(\u001b[38;5;28mlen\u001b[39m(lista1)):\n\u001b[1;32m----> 9\u001b[0m     produtos\u001b[38;5;241m.\u001b[39mappend(\u001b[43mmultiplica\u001b[49m(lista1[i] \u001b[38;5;241m*\u001b[39m lista2[i]))\n\u001b[0;32m     10\u001b[0m     \u001b[38;5;28;01mreturn\u001b[39;00m produtos\n",
      "\u001b[1;31mNameError\u001b[0m: name 'multiplica' is not defined"
     ]
    }
   ],
   "source": [
    "def multiplicado(a,b):\n",
    "    mult = a * b\n",
    "    return mult\n",
    "\n",
    "def multiplicador_lista(lista1, lista2):\n",
    "    produtos = []\n",
    "\n",
    "    for i in range(len(lista1)):\n",
    "        produtos.append(multiplica(lista1[i] * lista2[i]))\n",
    "        return produtos\n",
    "\n",
    "listaA = [1,2,3,4]\n",
    "listaB = [5,6,7,8]\n",
    "\n",
    "resultado = multiplicador_lista(listaA, listaB)\n",
    "\n",
    "print(resultado)"
   ]
  },
  {
   "cell_type": "code",
   "execution_count": null,
   "metadata": {},
   "outputs": [],
   "source": [
    "#crie uma calculadora de media solicitando numero para o usuario ate que ele digite 'fim'. crie uma funcao para solicitar a informacao para o usuario (numeros),em seguida,crie outra funcao para aprensentar a media deste valores."
   ]
  },
  {
   "cell_type": "code",
   "execution_count": null,
   "metadata": {},
   "outputs": [],
   "source": [
    "\n"
   ]
  }
 ],
 "metadata": {
  "kernelspec": {
   "display_name": "Python 3",
   "language": "python",
   "name": "python3"
  },
  "language_info": {
   "codemirror_mode": {
    "name": "ipython",
    "version": 3
   },
   "file_extension": ".py",
   "mimetype": "text/x-python",
   "name": "python",
   "nbconvert_exporter": "python",
   "pygments_lexer": "ipython3",
   "version": "3.12.3"
  }
 },
 "nbformat": 4,
 "nbformat_minor": 2
}
