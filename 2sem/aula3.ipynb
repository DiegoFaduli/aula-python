{
 "cells": [
  {
   "cell_type": "code",
   "execution_count": 2,
   "metadata": {},
   "outputs": [
    {
     "name": "stdout",
     "output_type": "stream",
     "text": [
      "6\n",
      "3.0\n"
     ]
    }
   ],
   "source": [
    "#funcao chama funcao \n",
    "\n",
    "def soma(a,b):\n",
    "    'funcao soma'\n",
    "    soma = a + b\n",
    "    return soma\n",
    "\n",
    "def media(a,b):\n",
    "    'funcao media'\n",
    "    media = soma(a,b) / 2\n",
    "    return media\n",
    "\n",
    "print(soma(2,4))\n",
    "print(media(2,4))"
   ]
  },
  {
   "cell_type": "code",
   "execution_count": null,
   "metadata": {},
   "outputs": [],
   "source": [
    "#criar uma funcao que retorna a soma dos quadrados\n",
    "\n",
    "def soma_quadrado(x):\n",
    "    'funcao eleva ao quadrado'\n",
    "    y = x**2\n",
    "\n",
    "    return y\n",
    "\n",
    "def soma_quadrado(a,b,c,d,e):\n",
    "    'funcao que soma os numeros'\n",
    "\n",
    "    x = eleva_quadrado(a)\n",
    "    y = eleva_quadrado(b)\n",
    "    z = eleva_quadrado(c)\n",
    "    w = eleva_quadrado(d)\n",
    "\n",
    "    soma = x + y + z + w\n",
    "\n",
    "    return soma\n",
    "    \n",
    "soma_quadrado(5,10,15,20,25)"
   ]
  },
  {
   "cell_type": "code",
   "execution_count": 7,
   "metadata": {},
   "outputs": [
    {
     "name": "stdout",
     "output_type": "stream",
     "text": [
      "a area do retangulo e:  200.0\n"
     ]
    }
   ],
   "source": [
    "#funcao para calcular a area do retangulo\n",
    "\n",
    "\n",
    "def area(comprimento,largura):\n",
    "    'funcao que calcula a area de um retangulo'\n",
    "\n",
    "    area_ret = comprimento * largura\n",
    "\n",
    "    return area_ret\n",
    "\n",
    "def mostra_area():\n",
    "    'funcao para mostra o resultado'\n",
    "    print('a area do retangulo e: ',ar)\n",
    "\n",
    "l = float(input('digite o comprimento'))\n",
    "c = float(input('digite a largura'))\n",
    "\n",
    "ar = area(l, c)\n",
    "mostra_area()\n",
    "\n",
    "\n"
   ]
  },
  {
   "cell_type": "code",
   "execution_count": 12,
   "metadata": {},
   "outputs": [
    {
     "data": {
      "text/plain": [
       "'area e media'"
      ]
     },
     "execution_count": 12,
     "metadata": {},
     "output_type": "execute_result"
    }
   ],
   "source": [
    "#funcao para calcular a area de um circulo e retornar as seguintes informacoes\n",
    "\n",
    "#area > 100 - area_grande\n",
    "#area > 50 - area_media\n",
    "#area < 50 - area_pequena\n",
    "\n",
    "def calcula_area(raio):\n",
    "    'funcao que calcula a area de um retangulo'\n",
    "\n",
    "    area_circ = 3.1415 * (raio**2)\n",
    "\n",
    "    return area_circ\n",
    "\n",
    "def mostra_area(area):\n",
    "    'funcao para mostra o resultado'\n",
    "    if area > 100:\n",
    "        return 'a area e grande'\n",
    "    elif area > 50:\n",
    "        return 'area e media'\n",
    "    else:\n",
    "        return'area_pequena'\n",
    "\n",
    "    print('a area do retangulo e: ',ar)\n",
    "\n",
    "\n",
    "\n",
    "r = float(input('digite o raio'))\n",
    "\n",
    "mostra_area(calcula_area(5))\n"
   ]
  },
  {
   "cell_type": "code",
   "execution_count": null,
   "metadata": {},
   "outputs": [],
   "source": [
    "def multiplicado(a,b):\n",
    "    mult = a * b\n",
    "    return mult\n",
    "\n",
    "def multiplicador_lista(lista1, lista2):\n",
    "    produtos = []\n",
    "\n",
    "    for i in range(len(lista1)):\n",
    "        produtos.append(multiplica(lista1[i] * lista2[i]))\n",
    "        return produtos\n",
    "\n",
    "listaA = [1,2,3,4]\n",
    "listaB = [5,6,7,8]\n",
    "\n",
    "resultado = multiplicador_lista(listaA, listaB)\n",
    "\n",
    "print(resultado)"
   ]
  },
  {
   "cell_type": "code",
   "execution_count": null,
   "metadata": {},
   "outputs": [],
   "source": [
    "#crie uma calculadora de media solicitando numero para o usuario ate que ele digite 'fim'. crie uma funcao para solicitar a informacao para o usuario (numeros),em seguida,crie outra funcao para aprensentar a media deste valores."
   ]
  },
  {
   "cell_type": "code",
   "execution_count": null,
   "metadata": {},
   "outputs": [],
   "source": [
    "\n"
   ]
  }
 ],
 "metadata": {
  "kernelspec": {
   "display_name": "Python 3",
   "language": "python",
   "name": "python3"
  },
  "language_info": {
   "codemirror_mode": {
    "name": "ipython",
    "version": 3
   },
   "file_extension": ".py",
   "mimetype": "text/x-python",
   "name": "python",
   "nbconvert_exporter": "python",
   "pygments_lexer": "ipython3",
   "version": "3.12.3"
  }
 },
 "nbformat": 4,
 "nbformat_minor": 2
}
