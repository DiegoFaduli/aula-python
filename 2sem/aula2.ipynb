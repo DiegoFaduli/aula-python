{
 "cells": [
  {
   "cell_type": "code",
   "execution_count": null,
   "metadata": {},
   "outputs": [],
   "source": [
    "#2Crie uma funcao que retorne as seguintes operacoes (soma, subtracao, divisao e multi).\n",
    "#Crie uma estrutura a qual retorn os resultados separados.Utilize 4 numeros.\n",
    "\n",
    "#3 Crie uma funcao que retorne a soma e media de uma lista \n",
    "\n",
    "lista = [10,20,30,40,50]\n",
    "#4 Crie uma funcao para retornar a soma e media de cada lista, alem da soma e media entre as tres listas.\n",
    "lista1 = [10,20,30,40,50]\n",
    "lista2 = [5,10,15,20,25,30,35,40,45,50]\n",
    "lista2 = [5,10,15,20,25,30,35,40,45,50,55,60,65,70]"
   ]
  },
  {
   "cell_type": "code",
   "execution_count": 7,
   "metadata": {},
   "outputs": [
    {
     "name": "stdout",
     "output_type": "stream",
     "text": [
      "{'soma': 20, 'subtracao': -16, 'multiplicacao': 384, 'divisao': 0.010416666666666666}\n"
     ]
    }
   ],
   "source": [
    "lista1 = [10,20,30,40,50]\n",
    "lista2 = [5,10,15,20,25,30,35,40,45,50]\n",
    "lista2 = [5,10,15,20,25,30,35,40,45,50,55,60,65,70]\n",
    "def operar_numeros(a, b, c, d):\n",
    "    resultados = {\n",
    "        'soma': a + b + c + d,\n",
    "        'subtracao': a - b - c - d,\n",
    "        'multiplicacao': a * b * c * d,\n",
    "        'divisao': None\n",
    "    }\n",
    "    if b != 0 and c != 0 and d != 0:\n",
    "        resultados['divisao'] = a / b / c / d\n",
    "    else:\n",
    "        resultados['divisao'] = 'Divisão por zero não permitida'\n",
    "    \n",
    "    return resultados\n",
    "\n",
    "print(operar_numeros(2, 4, 6, 8))\n"
   ]
  },
  {
   "cell_type": "code",
   "execution_count": 8,
   "metadata": {},
   "outputs": [
    {
     "name": "stdout",
     "output_type": "stream",
     "text": [
      "(150, 30.0)\n"
     ]
    }
   ],
   "source": [
    "lista1 = [10,20,30,40,50]\n",
    "lista2 = [5,10,15,20,25,30,35,40,45,50]\n",
    "lista2 = [5,10,15,20,25,30,35,40,45,50,55,60,65,70]\n",
    "def soma_e_media(lista):\n",
    "    soma = sum(lista)\n",
    "    media = soma / len(lista) if lista else 0\n",
    "    return soma, media\n",
    "\n",
    "lista = [10, 20, 30, 40, 50]\n",
    "print(soma_e_media(lista))\n"
   ]
  },
  {
   "cell_type": "code",
   "execution_count": 6,
   "metadata": {},
   "outputs": [
    {
     "name": "stdout",
     "output_type": "stream",
     "text": [
      "Resultados das operações matemáticas: {'soma': 20, 'subtracao': -16, 'multiplicacao': 384, 'divisao': 0.010416666666666666}\n",
      "Soma e média de cada lista e total: {'lista1': {'soma': 150, 'media': 30.0}, 'lista2': {'soma': 275, 'media': 27.5}, 'lista3': {'soma': 525, 'media': 37.5}, 'total': {'soma': 950, 'media': 32.758620689655174}}\n"
     ]
    }
   ],
   "source": [
    "lista1 = [10,20,30,40,50]\n",
    "lista2 = [5,10,15,20,25,30,35,40,45,50]\n",
    "lista2 = [5,10,15,20,25,30,35,40,45,50,55,60,65,70]\n",
    "def soma_e_media_listas(*listas):\n",
    "    resultados = {}\n",
    "    todas_as_listas = []\n",
    "    \n",
    "    for i, lista in enumerate(listas):\n",
    "        soma, media = soma_e_media(lista)\n",
    "        resultados[f'lista{i+1}'] = {'soma': soma, 'media': media}\n",
    "        todas_as_listas.extend(lista)\n",
    "    \n",
    "    soma_total, media_total = soma_e_media(todas_as_listas)\n",
    "    resultados['total'] = {'soma': soma_total, 'media': media_total}\n",
    "    \n",
    "    return resultados\n",
    "\n",
    "lista1 = [10, 20, 30, 40, 50]\n",
    "lista2 = [5, 10, 15, 20, 25, 30, 35, 40, 45, 50]\n",
    "lista3 = [5, 10, 15, 20, 25, 30, 35, 40, 45, 50, 55, 60, 65, 70]\n",
    "\n",
    "resultados_operacoes = operar_numeros(2, 4, 6, 8)\n",
    "print(\"Resultados das operações matemáticas:\", resultados_operacoes)\n",
    "\n",
    "resultados_listas = soma_e_media_listas(lista1, lista2, lista3)\n",
    "print(\"Soma e média de cada lista e total:\", resultados_listas)"
   ]
  },
  {
   "cell_type": "code",
   "execution_count": null,
   "metadata": {},
   "outputs": [],
   "source": []
  }
 ],
 "metadata": {
  "kernelspec": {
   "display_name": "Python 3",
   "language": "python",
   "name": "python3"
  },
  "language_info": {
   "codemirror_mode": {
    "name": "ipython",
    "version": 3
   },
   "file_extension": ".py",
   "mimetype": "text/x-python",
   "name": "python",
   "nbconvert_exporter": "python",
   "pygments_lexer": "ipython3",
   "version": "3.11.7"
  }
 },
 "nbformat": 4,
 "nbformat_minor": 2
}
