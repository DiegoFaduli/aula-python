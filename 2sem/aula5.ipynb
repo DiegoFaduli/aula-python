{
 "cells": [
  {
   "cell_type": "code",
   "execution_count": null,
   "metadata": {},
   "outputs": [],
   "source": [
    "#Funcao dentro de funcao (funcao chamando funcao)\n",
    "\n",
    "#Exercicios: 1. Crie uma estrutura com funcao a qual solicite5 numeros para um usuario. Apos isso, crie uma nova funcao para calcular a soma dos valores inseridos na lista. Em seguida, crie uma funcao para retornar a media dos valores da lista."
   ]
  },
  {
   "cell_type": "code",
   "execution_count": null,
   "metadata": {},
   "outputs": [],
   "source": [
    "lista_num = []\n",
    "\n",
    "def solic():\n",
    "    for i in range(5):\n",
    "        numeros = float(input(\"digite um numero\"))\n",
    "        lista_num.append(numeros)\n",
    "    return(lista_num)\n",
    "\n",
    "def soma(lista_num):\n",
    "    for k in lista_num:\n",
    "        soma_total = sum(lista_num)\n",
    "    return(soma_total)\n",
    "\n",
    "def media(soma_total):\n",
    "    media_total = soma_total /len(lista_num)\n",
    "    return media\n",
    "\n",
    "print(media(soma(solic())))\n"
   ]
  },
  {
   "cell_type": "code",
   "execution_count": null,
   "metadata": {},
   "outputs": [],
   "source": [
    "soma_salarios = 0\n",
    "cont888ador = 0\n",
    "i = 0\n",
    "8888\n",
    "while i < len(df):\n",
    "    soma_salarios +=8"
   ]
  },
  {
   "cell_type": "code",
   "execution_count": null,
   "metadata": {},
   "outputs": [],
   "source": []
  }
 ],
 "metadata": {
  "kernelspec": {
   "display_name": "Python 3",
   "language": "python",
   "name": "python3"
  },
  "language_info": {
   "codemirror_mode": {
    "name": "ipython",
    "version": 3
   },
   "file_extension": ".py",
   "mimetype": "text/x-python",
   "name": "python",
   "nbconvert_exporter": "python",
   "pygments_lexer": "ipython3",
   "version": "3.12.3"
  }
 },
 "nbformat": 4,
 "nbformat_minor": 2
}
