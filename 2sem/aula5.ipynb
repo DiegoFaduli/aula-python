{
 "cells": [
  {
   "cell_type": "code",
   "execution_count": null,
   "metadata": {},
   "outputs": [],
   "source": [
    "#Funcao dentro de funcao (funcao chamando funcao)\n",
    "\n",
    "#Exercicios: 1. Crie uma estrutura com funcao a qual solicite5 numeros para um usuario. Apos isso, crie uma nova funcao para calcular a soma dos valores inseridos na lista. Em seguida, crie uma funcao para retornar a media dos valores da lista."
   ]
  },
  {
   "cell_type": "code",
   "execution_count": null,
   "metadata": {},
   "outputs": [],
   "source": [
    "lista_num = []\n",
    "\n",
    "def solic():\n",
    "    for i in range(5):\n",
    "        numeros = float(input(\"digite um numero\"))\n",
    "        lista_num.append(numeros)\n",
    "    return(lista_num)\n",
    "\n",
    "def soma(lista_num):\n",
    "    for k in lista_num:\n",
    "        soma_total = sum(lista_num)\n",
    "    return(soma_total)\n",
    "\n",
    "def media(soma_total):\n",
    "    media_total = soma_total /len(lista_num)\n",
    "    return media\n",
    "\n",
    "print(media(soma(solic())))\n"
   ]
  },
  {
   "cell_type": "code",
   "execution_count": 6,
   "metadata": {},
   "outputs": [
    {
     "ename": "NameError",
     "evalue": "name 'df' is not defined",
     "output_type": "error",
     "traceback": [
      "\u001b[1;31m---------------------------------------------------------------------------\u001b[0m",
      "\u001b[1;31mNameError\u001b[0m                                 Traceback (most recent call last)",
      "Cell \u001b[1;32mIn[6], line 5\u001b[0m\n\u001b[0;32m      3\u001b[0m i \u001b[38;5;241m=\u001b[39m \u001b[38;5;241m0\u001b[39m\n\u001b[0;32m      4\u001b[0m \u001b[38;5;241m8888\u001b[39m\n\u001b[1;32m----> 5\u001b[0m \u001b[38;5;28;01mwhile\u001b[39;00m i \u001b[38;5;241m<\u001b[39m \u001b[38;5;28mlen\u001b[39m(\u001b[43mdf\u001b[49m):\n\u001b[0;32m      6\u001b[0m     soma_salarios \u001b[38;5;241m+\u001b[39m\u001b[38;5;241m=\u001b[39m\u001b[38;5;241m8\u001b[39m\n",
      "\u001b[1;31mNameError\u001b[0m: name 'df' is not defined"
     ]
    }
   ],
   "source": [
    "soma_salarios = 0\n",
    "cont888ador = 0\n",
    "i = 0\n",
    "8888\n",
    "while i < len(df):\n",
    "    soma_salarios +=8"
   ]
  },
  {
   "cell_type": "code",
   "execution_count": null,
   "metadata": {},
   "outputs": [],
   "source": []
  }
 ],
 "metadata": {
  "kernelspec": {
   "display_name": "Python 3",
   "language": "python",
   "name": "python3"
  },
  "language_info": {
   "codemirror_mode": {
    "name": "ipython",
    "version": 3
   },
   "file_extension": ".py",
   "mimetype": "text/x-python",
   "name": "python",
   "nbconvert_exporter": "python",
   "pygments_lexer": "ipython3",
   "version": "3.12.3"
  }
 },
 "nbformat": 4,
 "nbformat_minor": 2
}
