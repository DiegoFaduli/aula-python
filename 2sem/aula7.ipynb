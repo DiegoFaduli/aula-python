{
 "cells": [
  {
   "cell_type": "code",
   "execution_count": 1,
   "metadata": {},
   "outputs": [
    {
     "name": "stdout",
     "output_type": "stream",
     "text": [
      "Nota igual encontrada: 7\n",
      "Nota igual encontrada: 8\n",
      "Nota igual encontrada: 9\n",
      "Nota igual encontrada: 10\n"
     ]
    }
   ],
   "source": [
    "alunos1 = [7, 8, 9, 10, 6]\n",
    "alunos2 = [8, 9, 10, 5, 7]\n",
    "\n",
    "for nota1 in alunos1:\n",
    "    for nota2 in alunos2:\n",
    "        if nota1 == nota2:\n",
    "            print(f\"Nota igual encontrada: {nota1}\")"
   ]
  },
  {
   "cell_type": "code",
   "execution_count": 3,
   "metadata": {},
   "outputs": [
    {
     "name": "stdout",
     "output_type": "stream",
     "text": [
      "A soma dos elementos na posicao 0 é 5\n",
      "A soma dos elementos na posicao 1 é 7\n",
      "A soma dos elementos na posicao 2 é 9\n"
     ]
    }
   ],
   "source": [
    "lista1 = [1, 2, 3]\n",
    "lista2 = [4, 5, 6]\n",
    "\n",
    "for i in range(len(lista1)):\n",
    "    for k in range(len(lista2)):\n",
    "        if i == k:\n",
    "            print(f'A soma dos elementos na posicao {i} é {lista1[i] + lista2[k]}')\n"
   ]
  },
  {
   "cell_type": "code",
   "execution_count": 12,
   "metadata": {},
   "outputs": [
    {
     "name": "stdout",
     "output_type": "stream",
     "text": [
      "A palavra javascript tem 3 vogais\n",
      "A palavra pyhon tem 1 vogais\n",
      "A palavra spyder tem 1 vogais\n",
      "A palavra vscode tem 2 vogais\n"
     ]
    }
   ],
   "source": [
    "palavras = ['javascript','pyhon','spyder','vscode']\n",
    "\n",
    "vogais = 'aeiou'\n",
    "\n",
    "for palavra in palavras:\n",
    "    count_vogais = 0\n",
    "    for letra in palavra:\n",
    "        if letra in vogais:\n",
    "            count_vogais += 1\n",
    "    print(f'A palavra {palavra} tem {count_vogais} vogais')"
   ]
  },
  {
   "cell_type": "code",
   "execution_count": 13,
   "metadata": {},
   "outputs": [
    {
     "ename": "SyntaxError",
     "evalue": "incomplete input (147986817.py, line 2)",
     "output_type": "error",
     "traceback": [
      "\u001b[1;36m  Cell \u001b[1;32mIn[13], line 2\u001b[1;36m\u001b[0m\n\u001b[1;33m    \u001b[0m\n\u001b[1;37m    ^\u001b[0m\n\u001b[1;31mSyntaxError\u001b[0m\u001b[1;31m:\u001b[0m incomplete input\n"
     ]
    }
   ],
   "source": [
    "for i in range(1,7):\n",
    "    "
   ]
  },
  {
   "cell_type": "code",
   "execution_count": null,
   "metadata": {},
   "outputs": [],
   "source": [
    "palavras = ['javascript','pyhon','spyder','vscode']\n",
    "\n",
    "vogais = 'aeiou'\n",
    "\n",
    "for palavra in palavras:\n",
    "    count_vogais = 0\n",
    "    for letra in palavra:\n",
    "        if letra in vogais:\n",
    "            count_vogais += 1\n",
    "    print(f'A palavra {palavra} tem {count_vogais} vogais')"
   ]
  },
  {
   "cell_type": "code",
   "execution_count": null,
   "metadata": {},
   "outputs": [],
   "source": []
  }
 ],
 "metadata": {
  "kernelspec": {
   "display_name": "Python 3",
   "language": "python",
   "name": "python3"
  },
  "language_info": {
   "codemirror_mode": {
    "name": "ipython",
    "version": 3
   },
   "file_extension": ".py",
   "mimetype": "text/x-python",
   "name": "python",
   "nbconvert_exporter": "python",
   "pygments_lexer": "ipython3",
   "version": "3.12.3"
  }
 },
 "nbformat": 4,
 "nbformat_minor": 2
}
