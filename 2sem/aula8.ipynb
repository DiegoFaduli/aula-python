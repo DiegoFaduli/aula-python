{
 "cells": [
  {
   "cell_type": "code",
   "execution_count": 2,
   "metadata": {},
   "outputs": [
    {
     "data": {
      "text/plain": [
       "{'nome': 'joao', 'idade': 20, 'cidade': 'sao paulo'}"
      ]
     },
     "execution_count": 2,
     "metadata": {},
     "output_type": "execute_result"
    }
   ],
   "source": [
    "import json\n",
    "\n",
    "data = {\n",
    "    'nome': 'joao',\n",
    "    'idade': 20,\n",
    "    'cidade': 'sao paulo'\n",
    "}\n",
    "data"
   ]
  },
  {
   "cell_type": "code",
   "execution_count": null,
   "metadata": {},
   "outputs": [],
   "source": [
    "#escrever dados\n",
    "\n",
    "with open(\"exemplo_json.json\",\"w\") as json_file:\n",
    "    json.dump(data, json_file)"
   ]
  },
  {
   "cell_type": "code",
   "execution_count": null,
   "metadata": {},
   "outputs": [],
   "source": [
    "# ler dados\n",
    "\n",
    "with open('exemplo_json.json', 'r') as json_file:\n",
    "    df_json = json.load(json_file)"
   ]
  },
  {
   "cell_type": "code",
   "execution_count": null,
   "metadata": {},
   "outputs": [],
   "source": [
    "import pandas as pd\n",
    "\n",
    "data={\n",
    "    'nome': ['ana','pedro','maria','camila'],\n",
    "    'idade': [20,49,34,23],\n",
    "    'cidade': ['sao paulo','fortaleza','rio de janeiro','sao paulo']\n",
    "}\n",
    "\n",
    "df_excel = pd.DataFrame(data)\n",
    "\n",
    "\n",
    "#df_csv.to_csv(\"exmplo_csv.csv\", index = False)\n",
    "\n",
    "df_excel.to_excel(\"exemplo_excel.xlsx\", index = False)\n"
   ]
  },
  {
   "cell_type": "code",
   "execution_count": null,
   "metadata": {},
   "outputs": [],
   "source": [
    "#lendo arquivo em csv\n",
    "\n",
    "df_csv = pd.read_csv('/aula-python-main-master/2sem/exmplo_json.json')\n",
    "df_csv"
   ]
  },
  {
   "cell_type": "code",
   "execution_count": 5,
   "metadata": {},
   "outputs": [],
   "source": [
    "#Exercicios \n",
    "#1. Crie uma estrutura em python para salvar os dados abaixo nas seguintes estruturas: json, excel, json e csv.\n",
    "# Nome profissao idade sexo\n",
    "#ana    contadora   20  f\n",
    "#pedro  engenheiro  45  m\n",
    "#maria  arquiteta   43  f\n",
    "#camila bancaria    68  f\n",
    "\n",
    "#Apos isso, leia os 3 arquivos, pois vamos utilizar estrutura de repeticao.\n"
   ]
  },
  {
   "cell_type": "code",
   "execution_count": null,
   "metadata": {},
   "outputs": [],
   "source": [
    "import pandas as pd\n",
    "\n",
    "data={\n",
    "    'nome': ['ana','pedro','maria','camila'],\n",
    "    'profissao': ['contadora','engenheiro','arquiteta','bancaria'],\n",
    "    'idade': [20,49,34,23],\n",
    "    'sexo': ['f','m','f','f'],\n",
    "}\n",
    "\n",
    "df_excel = pd.DataFrame(data)\n",
    "df_csv = pd.DataFrame(data)\n",
    "\n",
    "\n",
    "df_excel.to_excel(\"novo_exemplo_excel.xlsx\")\n",
    "df_excel.to_csv(\"novo_exemplo_csv.csv\")"
   ]
  },
  {
   "cell_type": "code",
   "execution_count": null,
   "metadata": {},
   "outputs": [],
   "source": [
    "#exemplo de er 1\n",
    "for i in range(len(df_csv['idade'])):\n",
    "    print(f'Nome: {df_csv['nome'][i]}, idade: {df_csv['idade'][i]}, sexo: {df_csv['sexo'][i]}')"
   ]
  },
  {
   "cell_type": "code",
   "execution_count": null,
   "metadata": {},
   "outputs": [],
   "source": [
    "#exemplo de er 2 \n",
    "\n",
    "i = 0\n",
    "while i < len(df_csv[\"nome\"]):\n",
    "    print(f'Nome: {df_csv['nome'][i]}, idade: {df_csv['idade'][i]}, sexo: {df_csv['sexo'][i]}')\n",
    "\n",
    "    i += 1"
   ]
  },
  {
   "cell_type": "code",
   "execution_count": null,
   "metadata": {},
   "outputs": [],
   "source": [
    "#exemplo de er 3\n",
    "\n",
    "def buscar_info(nome,dados):\n",
    "    if nome in dados[\"nome\"]:\n",
    "        index = dados[\"nome\"].index(nome)\n",
    "        return f\"Nome: {nome}, Idade: {dados['idade'][index]}, sexo: {dados['sexo'][index]}\"\n",
    "    else:\n",
    "        return \"Nome nao encontrado.\"\n",
    "    \n",
    "print(buscar_info(\"Maria\", df_csv))\n",
    "print(buscar_info(\"Carlos\", df_csv))"
   ]
  }
 ],
 "metadata": {
  "kernelspec": {
   "display_name": "Python 3",
   "language": "python",
   "name": "python3"
  },
  "language_info": {
   "codemirror_mode": {
    "name": "ipython",
    "version": 3
   },
   "file_extension": ".py",
   "mimetype": "text/x-python",
   "name": "python",
   "nbconvert_exporter": "python",
   "pygments_lexer": "ipython3",
   "version": "3.12.3"
  }
 },
 "nbformat": 4,
 "nbformat_minor": 2
}
